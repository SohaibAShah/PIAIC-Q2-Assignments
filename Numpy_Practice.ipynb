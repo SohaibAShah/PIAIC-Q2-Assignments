{
  "nbformat": 4,
  "nbformat_minor": 0,
  "metadata": {
    "colab": {
      "name": "Numpy Practice.ipynb",
      "provenance": [],
      "collapsed_sections": [],
      "authorship_tag": "ABX9TyMJh2LFMsRnyeYNZyIw6f+l",
      "include_colab_link": true
    },
    "kernelspec": {
      "name": "python3",
      "display_name": "Python 3"
    }
  },
  "cells": [
    {
      "cell_type": "markdown",
      "metadata": {
        "id": "view-in-github",
        "colab_type": "text"
      },
      "source": [
        "<a href=\"https://colab.research.google.com/github/SohaibAShah/PIAIC-Q2-Assignments/blob/main/Numpy_Practice.ipynb\" target=\"_parent\"><img src=\"https://colab.research.google.com/assets/colab-badge.svg\" alt=\"Open In Colab\"/></a>"
      ]
    },
    {
      "cell_type": "code",
      "metadata": {
        "colab": {
          "base_uri": "https://localhost:8080/"
        },
        "id": "jHfw4XYThatt",
        "outputId": "d7538941-0590-46d8-b133-4a7000fb8455"
      },
      "source": [
        "import numpy as np\r\n",
        "\r\n",
        "nda = np.array (\r\n",
        "                    [\r\n",
        "                       [ \r\n",
        "                        [111, 112, 113, 114], \r\n",
        "                        [121, 122, 123, 124] , \r\n",
        "                        [131, 132, 133, 134]\r\n",
        "                        ],\r\n",
        "                       [ \r\n",
        "                        [211, 212, 213, 214], \r\n",
        "                        [221, 222, 223, 224], \r\n",
        "                        [231, 232, 233, 234] \r\n",
        "                        ],\r\n",
        "                       [ \r\n",
        "                        [311, 312, 313, 314], \r\n",
        "                        [321, 322, 323, 324], \r\n",
        "                        [331, 332, 333, 334] \r\n",
        "                        ],\r\n",
        "                       [  \r\n",
        "                        [411, 412, 413, 414], \r\n",
        "                        [421, 422, 423, 424], \r\n",
        "                        [431, 432, 433, 434] \r\n",
        "                        ]\r\n",
        "                    ]\r\n",
        "                   )\r\n",
        "print(nda.ndim, nda.shape)\r\n",
        "s= nda[2,1,0]\r\n",
        "print(s)"
      ],
      "execution_count": 7,
      "outputs": [
        {
          "output_type": "stream",
          "text": [
            "3 (4, 3, 4)\n",
            "321\n"
          ],
          "name": "stdout"
        }
      ]
    }
  ]
}